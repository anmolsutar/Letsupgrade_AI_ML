{
 "cells": [
  {
   "cell_type": "markdown",
   "metadata": {},
   "source": [
    "# Question 1: \n",
    "Recreate “NB 21 map, filter, lambda.ipynb” to try different variations or perform different calculations from the ones that are in the NB \n"
   ]
  },
  {
   "cell_type": "markdown",
   "metadata": {},
   "source": [
    "# Answer:"
   ]
  },
  {
   "cell_type": "markdown",
   "metadata": {},
   "source": [
    "# Lambda\n",
    "A lambda function is a small anonymous function.\n",
    "\n",
    "A lambda function can take any number of arguments, but can only have one expression."
   ]
  },
  {
   "cell_type": "markdown",
   "metadata": {},
   "source": [
    "### Syntax of lambda"
   ]
  },
  {
   "cell_type": "markdown",
   "metadata": {},
   "source": [
    "    lambda(arguments:expression)\n",
    "    \n",
    "    The expression is executed and the result is returned:"
   ]
  },
  {
   "cell_type": "code",
   "execution_count": 2,
   "metadata": {},
   "outputs": [
    {
     "name": "stdout",
     "output_type": "stream",
     "text": [
      "4\n"
     ]
    }
   ],
   "source": [
    "l = lambda a:a*a              # with one argument\n",
    "print(l(2))"
   ]
  },
  {
   "cell_type": "code",
   "execution_count": 3,
   "metadata": {},
   "outputs": [
    {
     "name": "stdout",
     "output_type": "stream",
     "text": [
      "10\n"
     ]
    }
   ],
   "source": [
    "l1 = lambda x,y:x+y           # with two argument\n",
    "print(l1(5,5))"
   ]
  },
  {
   "cell_type": "code",
   "execution_count": 4,
   "metadata": {
    "scrolled": true
   },
   "outputs": [
    {
     "name": "stdout",
     "output_type": "stream",
     "text": [
      "11\n"
     ]
    }
   ],
   "source": [
    "l2 = lambda a,b,c:a+b-c      # with using multiple arguments\n",
    "print(l2(5,8,2))"
   ]
  },
  {
   "cell_type": "markdown",
   "metadata": {},
   "source": [
    "# Filter()\n",
    "        The filter() function returns an iterator were the items are filtered through a function to test if the item is                 accepted or not.\n",
    "        \n",
    "### Syntax:\n",
    "        filter(function,iterables)"
   ]
  },
  {
   "cell_type": "code",
   "execution_count": 13,
   "metadata": {},
   "outputs": [
    {
     "name": "stdout",
     "output_type": "stream",
     "text": [
      "[8, 6, 4, 2]\n"
     ]
    }
   ],
   "source": [
    "\n",
    "def is_even(n):\n",
    "    return n%2==0\n",
    "\n",
    "x = list(filter(is_even,[5,8,6,9,4,2,7]))\n",
    "print(x)\n"
   ]
  },
  {
   "cell_type": "code",
   "execution_count": 14,
   "metadata": {},
   "outputs": [
    {
     "name": "stdout",
     "output_type": "stream",
     "text": [
      "[8, 6, 4, 2]\n"
     ]
    }
   ],
   "source": [
    "print(list(filter(lambda n:n%2==0 ,[5,8,6,9,4,2,7]))) # filter used with lambda function in one line"
   ]
  },
  {
   "cell_type": "markdown",
   "metadata": {},
   "source": [
    "# Map()\n",
    "        The map() function executes a specified function for each item in an iterable. The item is sent to the function as a           parameter.\n",
    " \n",
    "### Syntax:\n",
    "        \n",
    "        map(function, iterables)"
   ]
  },
  {
   "cell_type": "code",
   "execution_count": 15,
   "metadata": {},
   "outputs": [
    {
     "name": "stdout",
     "output_type": "stream",
     "text": [
      "[7, 10, 8, 11, 6, 4, 9]\n"
     ]
    }
   ],
   "source": [
    "print(list(map(lambda n:n+2 ,[5,8,6,9,4,2,7])))   # in the list element addition with 2"
   ]
  },
  {
   "cell_type": "markdown",
   "metadata": {},
   "source": [
    "# Reduce()\n",
    "            The reduce() function is defined in the functools module. Like the map and filter functions, the reduce() function             receives two arguments, a function and an iterable. However, it doesn't return another iterable, instead it returns             a single value.\n",
    "### Syntax:\n",
    "            reduce(function,sequence)"
   ]
  },
  {
   "cell_type": "code",
   "execution_count": 20,
   "metadata": {},
   "outputs": [
    {
     "name": "stdout",
     "output_type": "stream",
     "text": [
      "10\n"
     ]
    }
   ],
   "source": [
    "from functools import reduce\n",
    "\n",
    "sum = reduce(lambda a,b:a+b,[1,2,3,4])\n",
    "print(sum)\n"
   ]
  },
  {
   "cell_type": "markdown",
   "metadata": {},
   "source": [
    "# Question 2: \n",
    "Recreate your own Python NB for “Classes and Objects” from the pdf provided namely “Classes&Objects.pdf”\n"
   ]
  },
  {
   "cell_type": "markdown",
   "metadata": {},
   "source": [
    "# Answer:"
   ]
  },
  {
   "cell_type": "markdown",
   "metadata": {},
   "source": [
    "# Classes/Objects\n",
    "\n",
    "        Python is an object oriented programming language.\n",
    "\n",
    "        Almost everything in Python is an object, with its properties and methods.\n",
    "\n",
    "        A Class is like an object constructor, or a \"blueprint\" for creating objects.\n",
    "        \n",
    "\n",
    "        \n",
    "    "
   ]
  },
  {
   "cell_type": "code",
   "execution_count": 28,
   "metadata": {},
   "outputs": [],
   "source": [
    "class myclass():               # Create a class named MyClass, with a property :\n",
    "    x=5"
   ]
  },
  {
   "cell_type": "code",
   "execution_count": 32,
   "metadata": {},
   "outputs": [
    {
     "name": "stdout",
     "output_type": "stream",
     "text": [
      "5\n"
     ]
    }
   ],
   "source": [
    "c1 = myclass()                # Create an object named c1, and print the value of x:\n",
    "print(c1.x)"
   ]
  },
  {
   "cell_type": "code",
   "execution_count": 33,
   "metadata": {},
   "outputs": [
    {
     "name": "stdout",
     "output_type": "stream",
     "text": [
      "Land Rover\n"
     ]
    }
   ],
   "source": [
    "class car:                                          \n",
    "    def __init__(self,name,model,price):      # __init__() function to assign values \n",
    "        self.name=name\n",
    "        self.price=price\n",
    "        self.model=model\n",
    "c2 = car(\"Land Rover\",\"Range rover velar\",7400000)\n",
    "print(c2.name)"
   ]
  },
  {
   "cell_type": "code",
   "execution_count": 35,
   "metadata": {},
   "outputs": [
    {
     "name": "stdout",
     "output_type": "stream",
     "text": [
      "Car name is: Land Rover\n"
     ]
    }
   ],
   "source": [
    "class car:                                          \n",
    "    def __init__(self,name,model,price):      # __init__() function to assign values \n",
    "        self.name=name\n",
    "        self.price=price\n",
    "        self.model=model\n",
    "        \n",
    "    def L_rover(self):                       #Methods in objects are functions that belong to the object.\n",
    "        print(\"Car name is:\",self.name)\n",
    "        \n",
    "c2 = car(\"Land Rover\",\"Range rover velar\",7400000)\n",
    "c2.L_rover()"
   ]
  },
  {
   "cell_type": "code",
   "execution_count": 47,
   "metadata": {},
   "outputs": [
    {
     "name": "stdout",
     "output_type": "stream",
     "text": [
      "Employee Name: Zara Salary: 2000\n",
      "Employee Name: Zara Salary: 2000\n",
      "Total Employee: 2\n"
     ]
    }
   ],
   "source": [
    "class employee:\n",
    "    empcount = 0\n",
    "    \n",
    "    #empCcount is a class variable whose value is shared among all instances of a this class\n",
    "    def __init__(self,name,salary): \n",
    "        self.name=name\n",
    "        self.salary=salary\n",
    "        \n",
    "        employee.empcount +=1\n",
    "        \n",
    "#Python adds the self argument to the list for you; you do not need to include it when you call the methods.\n",
    "\n",
    "    def display_count(self):\n",
    "        print(\"Total Employee:\",employee.empcount)\n",
    "        \n",
    "    def display_employee(self):\n",
    "        print(\"Employee Name:\",self.name,\"Salary:\",self.salary)\n",
    "\n",
    "#create instances of a class, you call the class using class name and pass in whatever arguments its __init__ method accepts\n",
    "\n",
    "emp1 = employee(\"Zara\", 2000)\n",
    "emp2 = employee(\"Manni\", 5000)\n",
    "\n",
    "# Accessing Attributes\n",
    "\n",
    "emp1.display_employee()\n",
    "emp1.display_employee()\n",
    "\n",
    "print(\"Total Employee:\",employee.empcount)"
   ]
  },
  {
   "cell_type": "code",
   "execution_count": null,
   "metadata": {},
   "outputs": [],
   "source": []
  }
 ],
 "metadata": {
  "kernelspec": {
   "display_name": "Python 3",
   "language": "python",
   "name": "python3"
  },
  "language_info": {
   "codemirror_mode": {
    "name": "ipython",
    "version": 3
   },
   "file_extension": ".py",
   "mimetype": "text/x-python",
   "name": "python",
   "nbconvert_exporter": "python",
   "pygments_lexer": "ipython3",
   "version": "3.8.3"
  }
 },
 "nbformat": 4,
 "nbformat_minor": 4
}
