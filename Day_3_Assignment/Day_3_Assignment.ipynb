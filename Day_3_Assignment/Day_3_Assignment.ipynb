{
 "cells": [
  {
   "cell_type": "markdown",
   "metadata": {},
   "source": [
    "# Day 3 Assignment"
   ]
  },
  {
   "cell_type": "markdown",
   "metadata": {},
   "source": [
    "**Q.1. Write a program to subtract two complex numbers in Python.**  \n"
   ]
  },
  {
   "cell_type": "code",
   "execution_count": 1,
   "metadata": {
    "scrolled": true
   },
   "outputs": [
    {
     "name": "stdout",
     "output_type": "stream",
     "text": [
      "Subtraction of Complex number is = (1-4j)\n"
     ]
    }
   ],
   "source": [
    "# Ans = Q.1\n",
    "\n",
    "complex1 = 2 + 5j\n",
    "complex2 = 1 + 9j\n",
    "\n",
    "subtract = complex1 - complex2  # subtracting complex1 to complex2\n",
    "\n",
    "print (\"Subtraction of Complex number is =\",subtract)"
   ]
  },
  {
   "cell_type": "markdown",
   "metadata": {},
   "source": [
    "**Q.2. Write a program to find the fourth root of a number.**\n"
   ]
  },
  {
   "cell_type": "code",
   "execution_count": 4,
   "metadata": {},
   "outputs": [
    {
     "name": "stdout",
     "output_type": "stream",
     "text": [
      "The fourth root number of 256 is 4.0\n"
     ]
    }
   ],
   "source": [
    "#Ans = Q.2\n",
    "rootn = 256\n",
    "fourthroot = rootn ** (1/4)\n",
    "print (\"The fourth root number of 256 is\",fourthroot)\n"
   ]
  },
  {
   "cell_type": "markdown",
   "metadata": {},
   "source": [
    "**Q.3. Write a program to swap two numbers in Python with the help of a temporary variable.** \n"
   ]
  },
  {
   "cell_type": "code",
   "execution_count": 19,
   "metadata": {},
   "outputs": [
    {
     "name": "stdout",
     "output_type": "stream",
     "text": [
      "Numbers are before swaping \tno1 = 10 \tno2 = 15\n",
      "Numbers are after swaping \tno1 = 15 \tno2= 10\n"
     ]
    }
   ],
   "source": [
    "#Ans = Q.3\n",
    "\n",
    "no1 = 10\n",
    "no2 = 15 \n",
    "\n",
    "print (\"Numbers are before swaping \\tno1 =\",no1,\"\\tno2 =\",no2)\n",
    "\n",
    "temp = no1   # storing no1 value into the temp variable\n",
    "no1 = no2    # storing no2 value into the no1 varible\n",
    "no2 = temp   # storing temp value into the  no2 varible\n",
    "\n",
    "print (\"Numbers are after swaping \\tno1 =\",no1,\"\\tno2=\",no2)"
   ]
  },
  {
   "cell_type": "markdown",
   "metadata": {},
   "source": [
    "**Q.4 Write a program to swap two numbers in Python without using a temporary variable.**\n"
   ]
  },
  {
   "cell_type": "code",
   "execution_count": 18,
   "metadata": {},
   "outputs": [
    {
     "name": "stdout",
     "output_type": "stream",
     "text": [
      "Numbers are before swaping \tno1 = 10 \tno2 = 15\n",
      "Numbers are after swaping \tno1 = 15 \tno2= 10\n"
     ]
    }
   ],
   "source": [
    "#Ans = Q.4\n",
    "no1 = 10\n",
    "no2 = 15\n",
    "\n",
    "print (\"Numbers are before swaping \\tno1 =\",no1,\"\\tno2 =\",no2)\n",
    "\n",
    "no1, no2 = no2, no1      # Swaping numbers\n",
    "\n",
    "print (\"Numbers are after swaping \\tno1 =\",no1,\"\\tno2=\",no2)\n"
   ]
  },
  {
   "cell_type": "markdown",
   "metadata": {},
   "source": [
    "**Q.5 Write a program to convert Fahrenheit to kelvin and celsius both.**\n"
   ]
  },
  {
   "cell_type": "code",
   "execution_count": 17,
   "metadata": {},
   "outputs": [
    {
     "name": "stdout",
     "output_type": "stream",
     "text": [
      "Celcius 33.333333333333336\n",
      "Kelvin 306.4833333333333\n"
     ]
    }
   ],
   "source": [
    "#Ans = Q.5\n",
    "\n",
    "f = 92                # value of fahrenheit\n",
    "\n",
    "c = (f-32) * 5/9      #converting in celcius\n",
    "k = c + 273.15        # converting in kelvin\n",
    "\n",
    "print (\"Celcius\",c)\n",
    "print (\"Kelvin\",k)"
   ]
  },
  {
   "cell_type": "markdown",
   "metadata": {},
   "source": [
    "**Q.6 Write a program to demonstrate all the available data types in Python. Hint: Use type() function.** \n"
   ]
  },
  {
   "cell_type": "code",
   "execution_count": 32,
   "metadata": {},
   "outputs": [
    {
     "name": "stdout",
     "output_type": "stream",
     "text": [
      "int \t= <class 'int'> \n",
      "string \t= <class 'str'> \n",
      "float \t= <class 'float'> \n",
      "tuple \t= <class 'tuple'> \n",
      "list \t= <class 'list'> \n",
      "dict \t= <class 'dict'> \n",
      "complex\t= <class 'complex'> \n",
      "Boolean\t= <class 'bool'>\n"
     ]
    }
   ],
   "source": [
    "#Ans = Q.6\n",
    "\n",
    "int1 = type(12)\n",
    "string1 = type('hello')\n",
    "float1 = type(34.00)\n",
    "tuple1 = type((124,))\n",
    "list1 = type([1, 4, 6])\n",
    "dict1 = type({'name':'Riya','age':19})\n",
    "complex1 = type(5+3j)\n",
    "boolean1 = type(True)\n",
    "\n",
    "print(\"int \\t=\",int1,\"\\nstring \\t=\",string1,\"\\nfloat \\t=\",float1,\"\\ntuple \\t=\",tuple1,\"\\nlist \\t=\",list1,\"\\ndict \\t=\",dict1,\"\\ncomplex\\t=\",complex1,\"\\nBoolean\\t=\",boolean1)"
   ]
  },
  {
   "cell_type": "markdown",
   "metadata": {},
   "source": [
    "**Q.7  Create a Markdown cell in Jupyter and list the steps discussed in the session by Dr. Darshan Ingle sir to create a Github profile and upload the Githubs Assignment link.** \n"
   ]
  },
  {
   "cell_type": "markdown",
   "metadata": {},
   "source": [
    "Ans = Q.7\n",
    "\n",
    "- Sign-up for Github or if you already had the Account then Sign-In\n",
    "- Create a New Reprository\n",
    "- Name the reprository LetsUpgrade AI/ML\n",
    "- Write the description for it ( Example : Assignments of LetsUpgrade)\n",
    "\n",
    "**Note :----- Donot Create Private one ( Create Public Reprository )**\n",
    "- After Creating the Reprository , Upload the Exising file/Folder (Make a folder of All the day Assignments with the .ipynb    notebooks )\n",
    "- Go to the solution file ( .ipynb) and copy the link in url\n",
    "- Paste that link in the Assignment and Submit"
   ]
  }
 ],
 "metadata": {
  "kernelspec": {
   "display_name": "Python 3",
   "language": "python",
   "name": "python3"
  },
  "language_info": {
   "codemirror_mode": {
    "name": "ipython",
    "version": 3
   },
   "file_extension": ".py",
   "mimetype": "text/x-python",
   "name": "python",
   "nbconvert_exporter": "python",
   "pygments_lexer": "ipython3",
   "version": "3.8.3"
  }
 },
 "nbformat": 4,
 "nbformat_minor": 4
}
