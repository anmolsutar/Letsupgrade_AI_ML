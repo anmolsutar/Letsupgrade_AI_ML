{
 "cells": [
  {
   "cell_type": "markdown",
   "metadata": {},
   "source": [
    "### Question 1 : Assuming that we have some email addresses in the \"username@companyname.com\" format, please write a program to print the company name of a given email address. Both user names and company names are composed of letters only. Input Format: \n",
    "### The first line of the input contains an email address. Output Format: Print the company name in a single line. Example; Input: john@google.com Output: google. \n"
   ]
  },
  {
   "cell_type": "code",
   "execution_count": 19,
   "metadata": {},
   "outputs": [
    {
     "name": "stdout",
     "output_type": "stream",
     "text": [
      "Enter the email address: dandavate000@gmail.com\n",
      "Company name:  gmail\n"
     ]
    }
   ],
   "source": [
    "# Answer : Question 1\n",
    "def companyname(x):\n",
    "    name = x.split('@')[1].split('.')[0]\n",
    "    print(\"Company name: \",name)\n",
    "    \n",
    "email = input(\"Enter the email address: \")\n",
    "companyname(email)"
   ]
  },
  {
   "cell_type": "markdown",
   "metadata": {},
   "source": [
    "### Question 2 : Write a program that accepts a comma-separated sequence of words as input and prints the words in a comma-separated sequence after sorting them alphabetically.\n",
    "    Input Format: The first line of input contains words separated by the comma. \n",
    "    Output Format: Print the sorted words separated by the comma. \n",
    "    Example: \n",
    "    Input: without,hello,bag,world \n",
    "    Output: bag,hello,without,world\n"
   ]
  },
  {
   "cell_type": "code",
   "execution_count": 20,
   "metadata": {},
   "outputs": [
    {
     "name": "stdout",
     "output_type": "stream",
     "text": [
      "Enter comma seperated words: without,hello,bag,world\n",
      "Sorted comma seperated sequence:  bag,hello,without,world\n"
     ]
    }
   ],
   "source": [
    "# Answer : Question 2\n",
    "def sorted_words(y):\n",
    "    y = y.split(',') \n",
    "    y = sorted(y)\n",
    "    print(\"Sorted comma seperated sequence: \", ','.join(y))\n",
    "    \n",
    "words = input('Enter comma seperated words: ')\n",
    "sorted_words(words)"
   ]
  },
  {
   "cell_type": "markdown",
   "metadata": {},
   "source": [
    "### Question 3: Create your own Jupyter Notebook for Sets. Reference link: https://www.w3schools.com/python/python_sets.asp \n"
   ]
  },
  {
   "cell_type": "markdown",
   "metadata": {},
   "source": [
    "## Python Sets"
   ]
  },
  {
   "cell_type": "markdown",
   "metadata": {},
   "source": [
    "### Set\n",
    "__A set is a collection which is unordered and unindexed. In Python sets are written with curly brackets.__"
   ]
  },
  {
   "cell_type": "code",
   "execution_count": 1,
   "metadata": {},
   "outputs": [
    {
     "name": "stdout",
     "output_type": "stream",
     "text": [
      "{'apple', 'banana', 'mango'}\n"
     ]
    }
   ],
   "source": [
    "# Example\n",
    "\n",
    "thisset = {\"apple\",\"apple\",\"mango\",\"banana\"}\n",
    "print(thisset)\n"
   ]
  },
  {
   "cell_type": "markdown",
   "metadata": {},
   "source": [
    "***Note : Sets are unordered, so you cannot be sure in which order the items will appear.***"
   ]
  },
  {
   "cell_type": "markdown",
   "metadata": {},
   "source": [
    "### Add Items"
   ]
  },
  {
   "cell_type": "markdown",
   "metadata": {},
   "source": [
    "***Note: Once a set is created, you cannot change its items, but you can add new items.***"
   ]
  },
  {
   "cell_type": "markdown",
   "metadata": {},
   "source": [
    "    To add one item to a set use the add() method.\n",
    "    To add more than one item to a set use the update() method."
   ]
  },
  {
   "cell_type": "code",
   "execution_count": 6,
   "metadata": {},
   "outputs": [
    {
     "name": "stdout",
     "output_type": "stream",
     "text": [
      "Original Set: {'apple', 'banana', 'orange', 'mango'}\n",
      "After add : {'cherry', 'mango', 'apple', 'orange', 'banana'}\n"
     ]
    }
   ],
   "source": [
    "# add() method\n",
    "\n",
    "fruits = {\"apple\",\"mango\",\"banana\",\"orange\"}\n",
    "print(\"Original Set:\",fruits)\n",
    "fruits.add(\"cherry\")\n",
    "print(\"After add :\",fruits)\n"
   ]
  },
  {
   "cell_type": "code",
   "execution_count": 8,
   "metadata": {},
   "outputs": [
    {
     "name": "stdout",
     "output_type": "stream",
     "text": [
      "Original Set: {'apple', 'banana', 'orange', 'mango'}\n",
      "After update : {'strawberry', 'pomogranet', 'cherry', 'mango', 'apple', 'licchi', 'orange', 'banana'}\n"
     ]
    }
   ],
   "source": [
    "# update method\n",
    "\n",
    "fruits = {\"apple\",\"mango\",\"banana\",\"orange\"}\n",
    "print(\"Original Set:\",fruits)\n",
    "fruits.update([\"cherry\",\"strawberry\",\"pomogranet\",\"licchi\"])\n",
    "print(\"After update :\",fruits)"
   ]
  },
  {
   "cell_type": "code",
   "execution_count": 9,
   "metadata": {},
   "outputs": [
    {
     "name": "stdout",
     "output_type": "stream",
     "text": [
      "4\n"
     ]
    }
   ],
   "source": [
    "# length of set\n",
    "\n",
    "fruits = {\"apple\",\"mango\",\"banana\",\"orange\"}\n",
    "print(len(fruits))\n"
   ]
  },
  {
   "cell_type": "code",
   "execution_count": 12,
   "metadata": {},
   "outputs": [
    {
     "name": "stdout",
     "output_type": "stream",
     "text": [
      "Original set: {'strawberry', 'banana', 'pomogranet', 'cherry', 'mango', 'apple', 'licchi', 'orange'}\n",
      "After remove cherry: {'strawberry', 'banana', 'pomogranet', 'mango', 'apple', 'licchi', 'orange'}\n"
     ]
    }
   ],
   "source": [
    "# remove items\n",
    "\n",
    "fruits = {'strawberry', 'pomogranet', 'cherry', 'mango', 'apple', 'licchi', 'orange', 'banana'}\n",
    "print(\"Original set:\",fruits)\n",
    "\n",
    "fruits.remove(\"cherry\")\n",
    "print(\"After remove cherry:\",fruits)"
   ]
  },
  {
   "cell_type": "code",
   "execution_count": 13,
   "metadata": {},
   "outputs": [
    {
     "name": "stdout",
     "output_type": "stream",
     "text": [
      "Original Set: {'apple', 'banana', 'orange', 'mango'}\n",
      "after discard cherry: {'apple', 'banana', 'orange', 'mango'}\n"
     ]
    }
   ],
   "source": [
    "# discard method\n",
    "\n",
    "fruits = {\"apple\",\"mango\",\"banana\",\"orange\"}\n",
    "print(\"Original Set:\",fruits)\n",
    "\n",
    "fruits.discard(\"cherry\")\n",
    "print(\"after discard cherry:\",fruits)"
   ]
  },
  {
   "cell_type": "markdown",
   "metadata": {},
   "source": [
    "***Note: If the item to remove does not exist, remove() will raise an error.***\n"
   ]
  },
  {
   "cell_type": "markdown",
   "metadata": {},
   "source": [
    "***Note: If the item to remove does not exist, discard() will NOT raise an error***"
   ]
  },
  {
   "cell_type": "code",
   "execution_count": 16,
   "metadata": {},
   "outputs": [
    {
     "name": "stdout",
     "output_type": "stream",
     "text": [
      "Original Set: {'apple', 'banana', 'orange', 'mango'}\n",
      "after pop: {'banana', 'orange', 'mango'}\n"
     ]
    }
   ],
   "source": [
    "# Pop method\n",
    "\n",
    "fruits = {\"apple\",\"mango\",\"banana\",\"orange\"}\n",
    "print(\"Original Set:\",fruits)\n",
    "\n",
    "fruits.pop()\n",
    "print(\"after pop:\",fruits)\n",
    "\n",
    "# sets are unordered, so when using the pop() method, you will not know which item that gets removed.\n"
   ]
  },
  {
   "cell_type": "code",
   "execution_count": 17,
   "metadata": {},
   "outputs": [
    {
     "name": "stdout",
     "output_type": "stream",
     "text": [
      "Original Set: {'apple', 'banana', 'orange', 'mango'}\n",
      "after clear: set()\n"
     ]
    }
   ],
   "source": [
    "# clear method\n",
    "\n",
    "fruits = {\"apple\",\"mango\",\"banana\",\"orange\"}\n",
    "print(\"Original Set:\",fruits)\n",
    "\n",
    "fruits.clear()\n",
    "print(\"after clear:\",fruits)"
   ]
  },
  {
   "cell_type": "code",
   "execution_count": 22,
   "metadata": {},
   "outputs": [
    {
     "name": "stdout",
     "output_type": "stream",
     "text": [
      "original set1: {'c', 'a', 'b'} \n",
      " original set2: {1, 2, 3}\n",
      "After using union method: {1, 2, 3, 'c', 'b', 'a'}\n",
      "After using update method: {1, 2, 3, 'c', 'b', 'a'}\n"
     ]
    }
   ],
   "source": [
    "# union and update method\n",
    "\n",
    "set1 = {\"a\",\"b\",\"c\"}\n",
    "set2 = {1,2,3}\n",
    "\n",
    "print(\"original set1:\",set1,\"\\n\",\"original set2:\",set2)\n",
    "\n",
    "set3 = set1.union(set2)\n",
    "print(\"After using union method:\",set3)\n",
    "\n",
    "set1.update(set2)\n",
    "print(\"After using update method:\",set1)\n",
    "\n",
    "# Both union() and update() will exclude any duplicate items.\n"
   ]
  },
  {
   "cell_type": "code",
   "execution_count": 24,
   "metadata": {},
   "outputs": [
    {
     "name": "stdout",
     "output_type": "stream",
     "text": [
      "{1, 2, 3, 'c', 'a', 'b'}\n"
     ]
    }
   ],
   "source": [
    "# The set() Constructor\n",
    "\n",
    "set4 = set((1, 2, 3, 'c', 'b', 'a'))\n",
    "print(set4)\n"
   ]
  },
  {
   "cell_type": "markdown",
   "metadata": {},
   "source": [
    "### Question 4: Given a list of n-1 numbers ranging from 1 to n, your task is to find the missing number. There are no duplicates. \n",
    "    Input Format: The first line contains n-1 numbers with each number separated by a space.\n",
    "    Output Format: Print the missing number \n",
    "    Example: \n",
    "        Input: 1 2 4 6 3 7 8 \n",
    "        Output: 5 Explanation: In the above list of numbers 5 is missing and hence 5 is the input \n"
   ]
  },
  {
   "cell_type": "code",
   "execution_count": 25,
   "metadata": {},
   "outputs": [
    {
     "name": "stdout",
     "output_type": "stream",
     "text": [
      "Enter your list: 1 2 4 6 3 7 8\n",
      "Misisng value:  5\n"
     ]
    }
   ],
   "source": [
    "# Answer : Question 4\n",
    "\n",
    "def mising_number(b):\n",
    "    list1 = b.split(' ')  # Spliting string values to list \n",
    "    list1 = [int(i) for i in list1]  # Converting string values to int\n",
    "    list1 = sorted(list1)  # Sort the list \n",
    "    set2 = {x for x in range(1, list1[-1])} \n",
    "            # make a set for 1 to n-1 from the sorted list, taking the nth number entered by user .\n",
    "    set1 = set(list1)     # make set of user list \n",
    "    diff = set2 - set1        # Finding the diffrence of sets (set of n elemnts - set of user entered list)\n",
    "    diff = list(map(str, diff))     # Converting back the list of int to List of string\n",
    "    print('Misisng value: ', ' '.join(diff))    # printing missing value in the same format as entered by user \n",
    "    \n",
    "user_list = input('Enter your list: ')\n",
    "mising_number(user_list)"
   ]
  },
  {
   "cell_type": "markdown",
   "metadata": {},
   "source": [
    "### Question 5: With a given list L, write a program to print this list L after removing all duplicate values with original order reserved. \n",
    "    Example: \n",
    "        If the input list is 12 24 35 24 88 120 155 88 120 155 Then the output should be 12 24 35 88 120 155 \n",
    "        \n",
    "        Explanation: Third, the seventh and ninth element of the list L has been removed because it was already present. \n",
    "        Input Format: In one line take the elements of the list L with each element separated by a space. \n",
    "        Output Format: Print the elements of the modified list in one line with each element separated by a space. \n",
    "        \n",
    "        Example: \n",
    "        Input: 12 24 35 24 \n",
    "        Output: 12 24 35 \n"
   ]
  },
  {
   "cell_type": "code",
   "execution_count": 28,
   "metadata": {},
   "outputs": [
    {
     "name": "stdout",
     "output_type": "stream",
     "text": [
      "Enter elements of a list: 12 24 35 24\n",
      "After Removing all duplicate values:  12 24 35\n"
     ]
    }
   ],
   "source": [
    "# Answer : Question 5\n",
    "\n",
    "def remove_duplicate(z):\n",
    "    lst = input_list.split(' ')\n",
    "    lst = [int(x) for x in lst]\n",
    "    lst = sorted(set(lst))\n",
    "    lst = list(map(str, lst))\n",
    "    print(\"After Removing all duplicate values: \",' '.join(lst))\n",
    "    \n",
    "input_list = input('Enter elements of a list: ')\n",
    "remove_duplicate(input_list)"
   ]
  },
  {
   "cell_type": "code",
   "execution_count": null,
   "metadata": {},
   "outputs": [],
   "source": []
  }
 ],
 "metadata": {
  "kernelspec": {
   "display_name": "Python 3",
   "language": "python",
   "name": "python3"
  },
  "language_info": {
   "codemirror_mode": {
    "name": "ipython",
    "version": 3
   },
   "file_extension": ".py",
   "mimetype": "text/x-python",
   "name": "python",
   "nbconvert_exporter": "python",
   "pygments_lexer": "ipython3",
   "version": "3.8.3"
  }
 },
 "nbformat": 4,
 "nbformat_minor": 4
}
