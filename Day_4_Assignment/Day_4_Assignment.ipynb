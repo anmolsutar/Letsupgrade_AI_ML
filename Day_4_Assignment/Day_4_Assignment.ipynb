{
 "cells": [
  {
   "cell_type": "markdown",
   "metadata": {},
   "source": [
    "### Question 1 : Research on whether addition, subtraction, multiplication, division, floor division, and modulo operations be performed on complex numbers. Based on your study, implement a Python program to demonstrate these operations."
   ]
  },
  {
   "cell_type": "code",
   "execution_count": 7,
   "metadata": {},
   "outputs": [
    {
     "name": "stdout",
     "output_type": "stream",
     "text": [
      "Enter the first Complex Number: 2+5j\n",
      "Enter the other Complex Number: 3+4j\n",
      "\n",
      "The complex number 1 is : (2+5j)\n",
      "The complex number 2 is : (3+4j)\n",
      "\n",
      "The result after Addition of the Two Complex Number is (5+9j)\n",
      "The result after Substraction of the Two Complex Number is (-1+1j)\n",
      "The result after Multiplication of the Two Complex Number is (-14+23j)\n",
      "The result after Division of the Two Complex Number is (1.04+0.28j)\n",
      "The result after Modulo of the Two Complex Number is 0.38516480713450374\n",
      "The result after Floor Division of the Two Complex Number is 1.0\n"
     ]
    }
   ],
   "source": [
    "# Answer = Question 1\n",
    "\n",
    "num1 = complex(input(\"Enter the first Complex Number: \"))\n",
    "num2 = complex(input(\"Enter the other Complex Number: \"))\n",
    "\n",
    "print(\"\\nThe complex number 1 is :\", num1)\n",
    "print(\"The complex number 2 is :\", num2)\n",
    "\n",
    "# Performing Operations on Complex Number :\n",
    "\n",
    "add = num1 + num2   # Performing Addition\n",
    "sub = num1 - num2   # Performing Substraction\n",
    "mul = num1 * num2   # Performing Multiplication\n",
    "div = num1 / num2   # Performing Division\n",
    "mod = abs(num1) % abs(num2) # Modulus operator are not allowed to be used in python3 therefor i converted in absolute value\n",
    "floor_div = abs(num1) // abs(num2) # Floor division operator are not allowed to be used in python3 therefor i converted in absolute value\n",
    "\n",
    "print(\"\\nThe result after Addition of the Two Complex Number is\", add)\n",
    "print(\"The result after Substraction of the Two Complex Number is\", sub)\n",
    "print(\"The result after Multiplication of the Two Complex Number is\", mul)\n",
    "print(\"The result after Division of the Two Complex Number is\", div)\n",
    "print(\"The result after Modulo of the Two Complex Number is\", mod)\n",
    "print(\"The result after Floor Division of the Two Complex Number is\", floor_div)"
   ]
  },
  {
   "cell_type": "markdown",
   "metadata": {},
   "source": [
    "### Question 2 : Research on range() functions and its parameters. Create a markdown cell and write in your own words (no copy-paste from google please) what you understand about it. Implement a small program of your choice on the same. "
   ]
  },
  {
   "cell_type": "markdown",
   "metadata": {},
   "source": [
    "__Answer = Question 2__\n",
    "\n",
    "    The range() function returns a sequence of numbers, starting from 0 by default, and increments by 1 (by default), and stops     before a specified number.\n",
    "\n",
    "    Syntax :\n",
    "        range(start, stop, step)\n",
    "        \n",
    "        Parameter\tDescription\n",
    "        start\t    Optional. An integer number specifying at which position to start. Default is 0\n",
    "        stop\t    Required. An integer number specifying at which position to stop (not included).\n",
    "        step\t    Optional. An integer number specifying the incrementation. Default is 1\n"
   ]
  },
  {
   "cell_type": "code",
   "execution_count": 10,
   "metadata": {},
   "outputs": [
    {
     "name": "stdout",
     "output_type": "stream",
     "text": [
      "1\n",
      "4\n",
      "7\n",
      "10\n",
      "13\n",
      "16\n",
      "19\n"
     ]
    }
   ],
   "source": [
    "x = range(1, 20, 3)\n",
    "for i in x:\n",
    "  print(i)"
   ]
  },
  {
   "cell_type": "markdown",
   "metadata": {},
   "source": [
    "### Question 3: Consider two numbers. Perform their subtraction and if the result of subtraction is greater than 25, print their multiplication result else print their division result.\n"
   ]
  },
  {
   "cell_type": "code",
   "execution_count": 16,
   "metadata": {},
   "outputs": [
    {
     "name": "stdout",
     "output_type": "stream",
     "text": [
      "Division result, when result of substraction is less than 25 = 0.5217391304347826\n"
     ]
    }
   ],
   "source": [
    "# Answer = Question 3\n",
    "\n",
    "num1 = 12\n",
    "num2 = 23\n",
    "result = num1 - num2 \n",
    "if result > 25:\n",
    "    print(\"Multiplication result, when result of substraction is greater than 25 =\",num1 * num2)\n",
    "else:\n",
    "    print(\"Division result, when result of substraction is less than 25 =\",num1 / num2)"
   ]
  },
  {
   "cell_type": "markdown",
   "metadata": {},
   "source": [
    "### Question 4: Consider a list of 10 elements of integer values. If the number in the list is divisible by 2, print the result as \"square of that number minus 2\". \n"
   ]
  },
  {
   "cell_type": "code",
   "execution_count": 26,
   "metadata": {},
   "outputs": [
    {
     "name": "stdout",
     "output_type": "stream",
     "text": [
      "Length of list: 10\n",
      "Number in list = 10  is divisible by 2 therefor result as square of that number minus 2 = 98\n",
      "Number in list = 78  is divisible by 2 therefor result as square of that number minus 2 = 6082\n",
      "Number in list = 44  is divisible by 2 therefor result as square of that number minus 2 = 1934\n",
      "Number in list = 14  is divisible by 2 therefor result as square of that number minus 2 = 194\n"
     ]
    }
   ],
   "source": [
    "l1 = [10,25,78,44,14,89,25,53,57,57]\n",
    "\n",
    "print(\"Length of list:\",len(l1)) # len function is checking length of list\n",
    "for i in l1:\n",
    "    if i%2 == 0 :\n",
    "        print(\"Number in list =\",i,\" is divisible by 2 therefor result as square of that number minus 2 =\",(i**2) - 2)"
   ]
  },
  {
   "cell_type": "markdown",
   "metadata": {},
   "source": [
    "### Question 5: Consider a list of 10 elements. Print all the elements in the list which are greater than 7 when that number is divided 2."
   ]
  },
  {
   "cell_type": "code",
   "execution_count": 39,
   "metadata": {},
   "outputs": [
    {
     "name": "stdout",
     "output_type": "stream",
     "text": [
      "Length of list: 10 \n",
      "\n",
      "The Number which is greater than 7 when number is divided by 2\n",
      "10\n",
      "44\n",
      "14\n"
     ]
    }
   ],
   "source": [
    "l1 = [10,25,2,44,14,4,5,53,57,57]\n",
    "\n",
    "print(\"Length of list:\",len(l1),\"\\n\") # len function is checking length of list\n",
    "\n",
    "print(\"The Number which is greater than 7 when number is divided by 2\")\n",
    "for i in l1:\n",
    "    if (i > 7) & (i % 2 == 0):\n",
    "        print(i)\n",
    "        "
   ]
  }
 ],
 "metadata": {
  "kernelspec": {
   "display_name": "Python 3",
   "language": "python",
   "name": "python3"
  },
  "language_info": {
   "codemirror_mode": {
    "name": "ipython",
    "version": 3
   },
   "file_extension": ".py",
   "mimetype": "text/x-python",
   "name": "python",
   "nbconvert_exporter": "python",
   "pygments_lexer": "ipython3",
   "version": "3.8.3"
  }
 },
 "nbformat": 4,
 "nbformat_minor": 4
}
