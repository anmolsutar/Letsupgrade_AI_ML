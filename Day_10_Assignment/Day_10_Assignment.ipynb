{
 "cells": [
  {
   "cell_type": "markdown",
   "metadata": {},
   "source": [
    "# Question 1:\n",
    "    \n",
    "    Create an element-wise comparison (greater, greater_equal, less and less_equal) of two given arrays"
   ]
  },
  {
   "cell_type": "code",
   "execution_count": 57,
   "metadata": {},
   "outputs": [
    {
     "name": "stdout",
     "output_type": "stream",
     "text": [
      "Original Array 1:\n",
      " [[2 5 6]\n",
      " [7 5 3]]\n",
      "Original Array 2:\n",
      " [[1 9 4]\n",
      " [5 7 3]]\n",
      "\n",
      "Greater number:\n",
      " [[ True False  True]\n",
      " [ True False False]]\n",
      "\n",
      "greater_equal :\n",
      " [[ True False  True]\n",
      " [ True False  True]]\n",
      "\n",
      "less number :\n",
      " [[False  True False]\n",
      " [False  True False]]\n",
      "\n",
      "less equal :\n",
      " [[False  True False]\n",
      " [False  True  True]]\n"
     ]
    }
   ],
   "source": [
    "import numpy as np\n",
    "\n",
    "# element-wise comparison (greater, greater_equal, less and less_equal) of two given arrays\n",
    "\n",
    "arr1 = np.array([[2,5,6],[7,5,3]]) # creating array 1\n",
    "print(\"Original Array 1:\\n\",arr1)\n",
    "\n",
    "arr2 = np.array([[1,9,4],[5,7,3]]) # creating array 2\n",
    "print(\"Original Array 2:\\n\",arr2)\n",
    "\n",
    "# comparing array1 to array2 if arr1 element greater than array 2 element return true else return false\n",
    "print('\\n'\"Greater number:\\n\",np.greater(arr1,arr2)) \n",
    "\n",
    "# comparing array1 to array2 if arr1 element greater than or equal to array 2 element return true else return false\n",
    "print('\\n'\"greater_equal :\\n\",np.greater_equal(arr1,arr2)) \n",
    "\n",
    "# comparing array1 to array2 if arr1 element less than array 2 element return true else return false\n",
    "print('\\n'\"less number :\\n\",np.less(arr1,arr2))\n",
    "\n",
    "# comparing array1 to array2 if arr1 element less than or equal to array 2 element return true else return false\n",
    "print('\\n'\"less equal :\\n\",np.less_equal(arr1,arr2))"
   ]
  },
  {
   "cell_type": "markdown",
   "metadata": {},
   "source": [
    "# Question 2:\n",
    "    Write a NumPy program to create an array of 10 zeros,10 ones, 10 fives"
   ]
  },
  {
   "cell_type": "code",
   "execution_count": 30,
   "metadata": {},
   "outputs": [
    {
     "name": "stdout",
     "output_type": "stream",
     "text": [
      "Array of 10 zeros : [0. 0. 0. 0. 0. 0. 0. 0. 0. 0.]\n",
      "Array of 10 Ones  : [1. 1. 1. 1. 1. 1. 1. 1. 1. 1.]\n",
      "Array of 10 fives : [5. 5. 5. 5. 5. 5. 5. 5. 5. 5.]\n"
     ]
    }
   ],
   "source": [
    "# create an array of 10 zeros,10 ones, 10 fives\n",
    "\n",
    "print(\"Array of 10 zeros :\",np.zeros(10)) # creating zeros array using zeros function\n",
    "print(\"Array of 10 Ones  :\",np.ones(10))  # creating ones array using ones function\n",
    "print(\"Array of 10 fives :\",np.ones(10)*5) # creating of 10 fives  using multiplication method (multiply by ones element)"
   ]
  },
  {
   "cell_type": "markdown",
   "metadata": {},
   "source": [
    "# Question 3: \n",
    "    Write a NumPy program to compute sum of all elements, sum of each column and sum of each row of a given array"
   ]
  },
  {
   "cell_type": "code",
   "execution_count": 56,
   "metadata": {},
   "outputs": [
    {
     "name": "stdout",
     "output_type": "stream",
     "text": [
      "array1:\n",
      " [[1 2]\n",
      " [3 4]]\n",
      "\n",
      "array2:\n",
      " [[1 2]\n",
      " [3 4]]\n",
      "\n",
      "Sum of each column [4 6]\n",
      "\n",
      "Sum of each Rows [3 7]\n"
     ]
    }
   ],
   "source": [
    "# sum of each column and sum of each row of a given array\n",
    "\n",
    "x = np.arange(1,5).reshape(2,2) # creating array 1\n",
    "print(\"array1:\\n\",x)\n",
    "\n",
    "y = np.arange(1,5).reshape(2,2) # creating array 2\n",
    "print(\"\\narray2:\\n\",x)\n",
    "\n",
    "print(\"\\nSum of each column\",np.sum(x,axis=0)) # sum of each column\n",
    "\n",
    "print(\"\\nSum of each Rows\",np.sum(x,axis=1)) # sum of each rows"
   ]
  },
  {
   "cell_type": "markdown",
   "metadata": {},
   "source": [
    "# Question 4: \n",
    "    Write a NumPy program to add, subtract, multiply, divide arguments element-wise."
   ]
  },
  {
   "cell_type": "code",
   "execution_count": 72,
   "metadata": {},
   "outputs": [
    {
     "name": "stdout",
     "output_type": "stream",
     "text": [
      "array 1:\n",
      " [[2 5]\n",
      " [8 6]]\n",
      "\n",
      "array 2:\n",
      " [[5 9]\n",
      " [3 7]]\n",
      "\n",
      "Addition of array:\n",
      " [[ 3 14 10]\n",
      " [12 12  6]]\n",
      "\n",
      "Subtraction of array:\n",
      " [[ 1 -4  2]\n",
      " [ 2 -2  0]]\n",
      "\n",
      "Multiplication of array:\n",
      " [[ 2 45 24]\n",
      " [35 35  9]]\n",
      "\n",
      "Division of array:\n",
      " [[2.         0.55555556 1.5       ]\n",
      " [1.4        0.71428571 1.        ]]\n"
     ]
    }
   ],
   "source": [
    "#program to add, subtract, multiply, divide arguments element-wise.\n",
    "\n",
    "arr_1=np.array([[2,5],[8,6]]) \n",
    "arr_2=np.array([[5,9],[3,7]])\n",
    "print(\"array 1:\\n\",arr_1)\n",
    "print(\"\\narray 2:\\n\",arr_2)\n",
    "\n",
    "print(\"\\nAddition of array:\\n\",np.add(arr1,arr2))          # addition of array 1 to array 2 using add function\n",
    "print(\"\\nSubtraction of array:\\n\",np.subtract(arr1,arr2))  # subtract of array 1 to array 2 using subtract function\n",
    "print(\"\\nMultiplication of array:\\n\",np.multiply(arr1,arr2)) # multiply of array 1 to array 2 using multiply function\n",
    "print(\"\\nDivision of array:\\n\",np.divide(arr1,arr2))        # divide array 1 to array 2 using divide function"
   ]
  },
  {
   "cell_type": "markdown",
   "metadata": {},
   "source": [
    "# Question 5: \n",
    "    Write a NumPy program to compute the trigonometric sine, cosine and tangent array of angles given in deg"
   ]
  },
  {
   "cell_type": "code",
   "execution_count": 90,
   "metadata": {},
   "outputs": [
    {
     "name": "stdout",
     "output_type": "stream",
     "text": [
      "Sine Array of angles given degree:\n",
      " [0.         0.5        0.70710678 0.8660254  1.        ]\n",
      "\n",
      "Cosine Array of angles given degree:\n",
      " [1.00000000e+00 8.66025404e-01 7.07106781e-01 5.00000000e-01\n",
      " 6.12323400e-17]\n",
      "\n",
      "Tangent Array of angles given degree:\n",
      " [0.00000000e+00 5.77350269e-01 1.00000000e+00 1.73205081e+00\n",
      " 1.63312394e+16]\n"
     ]
    }
   ],
   "source": [
    "#program to compute the trigonometric sine, cosine and tangent array of angles given in deg\n",
    "\n",
    "#compute trignometry sine given degree using sin function\n",
    "print(\"Sine Array of angles given degree:\\n\",np.sin(np.array((0., 30., 45., 60., 90.)) * np.pi / 180.)) \n",
    "\n",
    "#compute trignometry cosine given degree using cos function\n",
    "print(\"\\nCosine Array of angles given degree:\\n\",np.cos(np.array((0., 30., 45., 60., 90.)) * np.pi / 180.))\n",
    "\n",
    "#compute trignometry tangent given degree using tan function\n",
    "print(\"\\nTangent Array of angles given degree:\\n\",np.tan(np.array((0., 30., 45., 60., 90.)) * np.pi / 180.))"
   ]
  },
  {
   "cell_type": "markdown",
   "metadata": {},
   "source": [
    "# Question 6: \n",
    "    Write a Pandas program to create and display a DataFrame from a specified dictionary data which has the index labels"
   ]
  },
  {
   "cell_type": "code",
   "execution_count": 92,
   "metadata": {},
   "outputs": [
    {
     "name": "stdout",
     "output_type": "stream",
     "text": [
      "   EmpID Emp_Name  Salary\n",
      "A   1011   Akshay   40000\n",
      "V   1012    Vilas   35000\n",
      "S   1013  sharath   45000\n",
      "N   1014    Nivas   75000\n"
     ]
    }
   ],
   "source": [
    "# program to create and display a DataFrame from a specified dictionary data which has the index labels\n",
    "\n",
    "import numpy as np\n",
    "import pandas as pd\n",
    "\n",
    "emp_data = {\"EmpID\":[1011,1012,1013,1014],\"Emp_Name\":['Akshay','Vilas','sharath','Nivas'],\"Salary\":[40000,35000,45000,75000]}\n",
    "\n",
    "labels = ['A','V','S','N']\n",
    "\n",
    "df = pd.DataFrame(emp_data , index=labels)\n",
    "print(df)"
   ]
  },
  {
   "cell_type": "markdown",
   "metadata": {},
   "source": [
    "# Question 7: \n",
    "    Write a Pandas program to select the 'name' and 'score' columns from the following DataFrame."
   ]
  },
  {
   "cell_type": "code",
   "execution_count": 98,
   "metadata": {},
   "outputs": [
    {
     "name": "stdout",
     "output_type": "stream",
     "text": [
      "Student Exam Score Report:\n",
      "   Student_Name Division  Score\n",
      "0        Sahil        A  75.30\n",
      "1         Amar        A  63.49\n",
      "2         Asha        B  78.00\n",
      "3        Karan        C  87.25\n",
      "\n",
      "Selected Name and Score:\n",
      "   Student_Name  Score\n",
      "0        Sahil  75.30\n",
      "1         Amar  63.49\n",
      "2         Asha  78.00\n",
      "3        Karan  87.25\n"
     ]
    }
   ],
   "source": [
    "import numpy as np\n",
    "import pandas as pd\n",
    "\n",
    "Exam_Data = {\"Student_Name\":['Sahil','Amar','Asha','Karan'],\n",
    "            \"Division\":['A','A','B','C'],\n",
    "            \"Score\":[75.3,63.49,78.00,87.25]}\n",
    "\n",
    "df = pd.DataFrame(Exam_Data)\n",
    "print(\"Student Exam Score Report:\\n\",df)\n",
    "\n",
    "print(\"\\nSelected Name and Score:\\n\",df[['Student_Name','Score']])\n",
    "\n"
   ]
  },
  {
   "cell_type": "markdown",
   "metadata": {},
   "source": [
    "# Question 8:\n",
    "    Write a Pandas program to join the two given dataframes along rows and assign all data."
   ]
  },
  {
   "cell_type": "code",
   "execution_count": 99,
   "metadata": {},
   "outputs": [
    {
     "name": "stdout",
     "output_type": "stream",
     "text": [
      "Original DataFrames:\n",
      "  student_id              name  marks\n",
      "0         S1  Danniella Fenton    200\n",
      "1         S2      Ryder Storey    210\n",
      "2         S3      Bryce Jensen    190\n",
      "3         S4         Ed Bernal    222\n",
      "4         S5       Kwame Morin    199\n",
      "-------------------------------------\n",
      "  student_id              name  marks\n",
      "0         S4  Scarlette Fisher    201\n",
      "1         S5  Carla Williamson    200\n",
      "2         S6       Dante Morse    198\n",
      "3         S7    Kaiser William    219\n",
      "4         S8   Madeeha Preston    201\n",
      "\n",
      "Join the said two dataframes along rows:\n",
      "  student_id              name  marks\n",
      "0         S1  Danniella Fenton    200\n",
      "1         S2      Ryder Storey    210\n",
      "2         S3      Bryce Jensen    190\n",
      "3         S4         Ed Bernal    222\n",
      "4         S5       Kwame Morin    199\n",
      "0         S4  Scarlette Fisher    201\n",
      "1         S5  Carla Williamson    200\n",
      "2         S6       Dante Morse    198\n",
      "3         S7    Kaiser William    219\n",
      "4         S8   Madeeha Preston    201\n"
     ]
    }
   ],
   "source": [
    "student_data1 = pd.DataFrame({\n",
    "        'student_id': ['S1', 'S2', 'S3', 'S4', 'S5'],\n",
    "         'name': ['Danniella Fenton', 'Ryder Storey', 'Bryce Jensen', 'Ed Bernal', 'Kwame Morin'], \n",
    "        'marks': [200, 210, 190, 222, 199]})\n",
    "\n",
    "student_data2 = pd.DataFrame({\n",
    "        'student_id': ['S4', 'S5', 'S6', 'S7', 'S8'],\n",
    "        'name': ['Scarlette Fisher', 'Carla Williamson', 'Dante Morse', 'Kaiser William', 'Madeeha Preston'], \n",
    "        'marks': [201, 200, 198, 219, 201]})\n",
    "\n",
    "print(\"Original DataFrames:\")\n",
    "print(student_data1)\n",
    "print(\"-------------------------------------\")\n",
    "print(student_data2)\n",
    "print(\"\\nJoin the said two dataframes along rows:\")\n",
    "result_data = pd.concat([student_data1, student_data2])\n",
    "print(result_data)"
   ]
  },
  {
   "cell_type": "markdown",
   "metadata": {},
   "source": [
    "# Question 9:\n",
    "    Write a Pandas program to detect missing values of a given DataFrame. Display True or False"
   ]
  },
  {
   "cell_type": "code",
   "execution_count": 118,
   "metadata": {},
   "outputs": [
    {
     "name": "stdout",
     "output_type": "stream",
     "text": [
      "Original Data:\n",
      "    EmpID Emp_Name  Salary\n",
      "A   1011   Akshay   40000\n",
      "V   1012    Vilas   35000\n",
      "S   1013  sharath   45000\n",
      "N   1014    Nivas   75000\n",
      "\n",
      "missing values of a given DataFrame:\n",
      "    EmpID  Emp_Name  Salary\n",
      "A  False     False   False\n",
      "V  False     False   False\n",
      "S  False     False   False\n",
      "N  False     False   False\n"
     ]
    }
   ],
   "source": [
    "import numpy as np\n",
    "import pandas as pd\n",
    "\n",
    "emp_data = {\"EmpID\":[1011,1012,1013,1014],\"Emp_Name\":['Akshay','Vilas','sharath','Nivas'],\"Salary\":[40000,35000,45000,75000]}\n",
    "\n",
    "labels = ['A','V','S','N']\n",
    "\n",
    "df = pd.DataFrame(emp_data , index=labels)\n",
    "print(\"Original Data:\\n\",df)\n",
    "\n",
    "print(\"\\nmissing values of a given DataFrame:\\n\",df.isna())\n",
    "\n",
    "\n"
   ]
  },
  {
   "cell_type": "markdown",
   "metadata": {},
   "source": [
    "# Question 10:\n",
    "    Write a Pandas program to create and display a one-dimensional array-like object containing an array of data."
   ]
  },
  {
   "cell_type": "code",
   "execution_count": 116,
   "metadata": {},
   "outputs": [
    {
     "name": "stdout",
     "output_type": "stream",
     "text": [
      "0    Ashish\n",
      "1          \n",
      "2       Sam\n",
      "3        85\n",
      "dtype: object\n"
     ]
    }
   ],
   "source": [
    "import pandas as pd\n",
    "ds = pd.Series(['Ashish','','Sam',85])\n",
    "print(ds)"
   ]
  }
 ],
 "metadata": {
  "kernelspec": {
   "display_name": "Python 3",
   "language": "python",
   "name": "python3"
  },
  "language_info": {
   "codemirror_mode": {
    "name": "ipython",
    "version": 3
   },
   "file_extension": ".py",
   "mimetype": "text/x-python",
   "name": "python",
   "nbconvert_exporter": "python",
   "pygments_lexer": "ipython3",
   "version": "3.8.3"
  }
 },
 "nbformat": 4,
 "nbformat_minor": 4
}
