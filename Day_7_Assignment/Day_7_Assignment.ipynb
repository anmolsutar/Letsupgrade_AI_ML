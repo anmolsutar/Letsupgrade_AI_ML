{
 "cells": [
  {
   "cell_type": "markdown",
   "metadata": {},
   "source": [
    "### Question 1: Write a program to copy the contents of one file to another using a for loop. (Don’t use built-in copy function) \n"
   ]
  },
  {
   "cell_type": "code",
   "execution_count": 22,
   "metadata": {},
   "outputs": [
    {
     "name": "stdout",
     "output_type": "stream",
     "text": [
      "Copied file into new file content:\n",
      " Hii This is copy paste\n"
     ]
    }
   ],
   "source": [
    "# Answer : Question 1\n",
    "\n",
    "# open file in read mode \n",
    "fn = open('bcd.txt', 'r')   \n",
    "# open other file in write mode \n",
    "fn1 = open('nfile.txt', 'w') \n",
    "  \n",
    "# read the content of the file line by line \n",
    "cont = fn.readlines() \n",
    "type(cont) \n",
    "for i in range(0, len(cont)): \n",
    "    if(i % 2 == 0): \n",
    "        fn1.write(cont[i]) \n",
    "    else: \n",
    "        pass\n",
    "  \n",
    "# close the file\n",
    "\n",
    "fn1.close() \n",
    "  \n",
    "# open file in read mode \n",
    "fn1 = open('nfile.txt', 'r') \n",
    "  \n",
    "# read the content of the file \n",
    "cont1 = fn1.read() \n",
    "  \n",
    "# print the content of the file \n",
    "print(\"Copied file into new file content:\\n\",cont1) \n",
    "  \n",
    "# close all files \n",
    "fn.close() \n",
    "fn1.close() "
   ]
  },
  {
   "cell_type": "markdown",
   "metadata": {},
   "source": [
    "### Question 2: Write a Python program to find maximum and minimum values in the dictionary. Do not use built-in min and max functions. \n"
   ]
  },
  {
   "cell_type": "code",
   "execution_count": 30,
   "metadata": {},
   "outputs": [
    {
     "name": "stdout",
     "output_type": "stream",
     "text": [
      "max is  7\n",
      "min is  2\n"
     ]
    }
   ],
   "source": [
    "# Ansewr : Question 2\n",
    "\n",
    "d={1:12,2:3,3:7,4:2}\n",
    "num=d[1]\n",
    "for k,v in d.items():\n",
    "    if v>num:\n",
    "        maximum=v\n",
    "    if v<num:\n",
    "        minimum=v\n",
    "print(\"max is \",maximum)\n",
    "print(\"min is \",minimum)\n"
   ]
  }
 ],
 "metadata": {
  "kernelspec": {
   "display_name": "Python 3",
   "language": "python",
   "name": "python3"
  },
  "language_info": {
   "codemirror_mode": {
    "name": "ipython",
    "version": 3
   },
   "file_extension": ".py",
   "mimetype": "text/x-python",
   "name": "python",
   "nbconvert_exporter": "python",
   "pygments_lexer": "ipython3",
   "version": "3.8.3"
  }
 },
 "nbformat": 4,
 "nbformat_minor": 4
}
