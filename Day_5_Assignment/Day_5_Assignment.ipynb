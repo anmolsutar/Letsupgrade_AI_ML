{
 "cells": [
  {
   "cell_type": "markdown",
   "metadata": {},
   "source": [
    "### Question 1 : Write a Python program to find the first 20 non-even prime natural numbers. \n",
    "    "
   ]
  },
  {
   "cell_type": "code",
   "execution_count": 21,
   "metadata": {},
   "outputs": [
    {
     "name": "stdout",
     "output_type": "stream",
     "text": [
      "First 20 non-even prime natural number:\n",
      "3\n",
      "5\n",
      "7\n",
      "11\n",
      "13\n",
      "17\n",
      "19\n",
      "23\n",
      "29\n",
      "31\n",
      "37\n",
      "41\n",
      "43\n",
      "47\n",
      "53\n",
      "59\n",
      "61\n",
      "67\n",
      "71\n",
      "73\n"
     ]
    }
   ],
   "source": [
    "# Answer 1\n",
    "\n",
    "print(\"First 20 non-even prime natural number:\")\n",
    "for i in range (3,75):\n",
    "    for num in range(2, i):\n",
    "        if (i%num) == 0:\n",
    "            break\n",
    "    else:\n",
    "        print(i)"
   ]
  },
  {
   "cell_type": "markdown",
   "metadata": {},
   "source": [
    " ### Question 2 : Write a Python program to implement 15 functions of string.    "
   ]
  },
  {
   "cell_type": "code",
   "execution_count": 27,
   "metadata": {},
   "outputs": [
    {
     "name": "stdout",
     "output_type": "stream",
     "text": [
      "The string is  Welcome to Artificial Intelligence \n",
      "\n",
      "1. Upper:\n",
      " WELCOME TO ARTIFICIAL INTELLIGENCE \n",
      "\n",
      "2. Lower:\n",
      " welcome to artificial intelligence \n",
      "\n",
      "3. Right Strip:\n",
      " Welcome to Artificial Intelligence\n",
      "\n",
      "4. Left Strip:\n",
      "Welcome to Artificial Intelligence \n",
      "\n",
      "5. Strip:\n",
      "Welcome to Artificial Intelligence\n",
      "\n",
      "6. Title:\n",
      " Welcome To Artificial Intelligence \n",
      "\n",
      "7. Find location of f in string using Find function \n",
      "16\n",
      "\n",
      "8. Replacing all f with z\n",
      " Welcome to Artizicial Intelligence \n",
      "\n",
      "9. Checking if String Ends with y or not \n",
      "False\n",
      "\n",
      "10. Spliting String \n",
      "['Welcome', 'to', 'Artificial', 'Intelligence']\n",
      "\n",
      "11. Checking Is String startswith W? \n",
      "True\n",
      "\n",
      "12. Swaping Case:\n",
      " wELCOME TO aRTIFICIAL iNTELLIGENCE \n",
      "\n",
      "13. Counting How many times did e appears: \n",
      "5\n",
      "\n",
      "14. Printing thee Index of letter u \n",
      "15\n",
      "\n",
      "15. isDigit:\n",
      "False\n"
     ]
    }
   ],
   "source": [
    "# Answer =2\n",
    "\n",
    "string1 = \" Welcome to Artificial Intelligence \"\n",
    "print(\"The string is\", string1)\n",
    "print('\\n1. Upper:')\n",
    "print(string1.upper())\n",
    "print('\\n2. Lower:')\n",
    "print(string1.lower())\n",
    "print('\\n3. Right Strip:')\n",
    "print(string1.rstrip())\n",
    "print('\\n4. Left Strip:')\n",
    "print(string1.lstrip())\n",
    "print('\\n5. Strip:')\n",
    "print(string1.strip())\n",
    "print('\\n6. Title:')\n",
    "print(string1.title())\n",
    "print('\\n7. Find location of f in string using Find function ')\n",
    "print(string1.find('f'))\n",
    "print('\\n8. Replacing all f with z')\n",
    "print(string1.replace('f','z'))\n",
    "print('\\n9. Checking if String Ends with y or not ')\n",
    "print(string1.endswith('y '))\n",
    "print('\\n10. Spliting String ')\n",
    "print(string1.split()) \n",
    "print('\\n11. Checking Is String startswith W? ')\n",
    "print(string1.startswith(' W'))\n",
    "print('\\n12. Swaping Case:')\n",
    "print(string1.swapcase())\n",
    "print('\\n13. Counting How many times did e appears: ')\n",
    "print(string1.count('e'))\n",
    "print(\"\\n14. Printing thee Index of letter u \")\n",
    "print(string1.index('i'))\n",
    "print('\\n15. isDigit:')\n",
    "print(string1.isdigit())"
   ]
  },
  {
   "cell_type": "markdown",
   "metadata": {},
   "source": [
    "### Question 3: Write a Python program to check if the given string is a Palindrome or Anagram or None of them. Display the message accordingly to the user. \n"
   ]
  },
  {
   "cell_type": "code",
   "execution_count": 30,
   "metadata": {},
   "outputs": [
    {
     "name": "stdout",
     "output_type": "stream",
     "text": [
      "Enter String\tmadam\n",
      "Given string is Palindrome\n"
     ]
    }
   ],
   "source": [
    "# Answer 3\n",
    "\n",
    "string = input(\"Enter String\\t\")\n",
    "rev = string[::-1]\n",
    "\n",
    "# A palindrome is nothing but any number or a string which remains unaltered when reversed. \n",
    "if (string == rev):                         # checking given string and reversed string is palindrome or not\n",
    "    print(\"Given string is Palindrome\")\n",
    "    \n",
    "# Anagram of a string is another string that contains same characters, only the order of characters can be different\n",
    "elif (sorted(string)== sorted(rev)):        # checking given string and reversed string after sorted is palindrome or not\n",
    "    print(\"Given string is Anagram\")\n",
    "else:\n",
    "    print(\"Given string is non of Palindrome or Anagram\")"
   ]
  },
  {
   "cell_type": "markdown",
   "metadata": {},
   "source": [
    "### Question 4: Write a Python's user-defined function that removes all the additional characters from the string and convert it finally to lower case using built-in lower(). eg: If the string is \"Dr. Darshan Ingle @AIML Trainer\", then the output be \"drdarshaningleaimltrainer\"\n"
   ]
  },
  {
   "cell_type": "code",
   "execution_count": 37,
   "metadata": {},
   "outputs": [
    {
     "name": "stdout",
     "output_type": "stream",
     "text": [
      "drdarshaningleaimltrainer"
     ]
    }
   ],
   "source": [
    "# Answer 4\n",
    "\n",
    "string1 = \"Dr. Darshan Ingle @AIML Trainer\"\n",
    "for i in string1:\n",
    "    if i.isalnum():             # Removing special characters from a string \n",
    "        print(i.lower(),end=\"\") # i.lower() function convert string in lower case"
   ]
  }
 ],
 "metadata": {
  "kernelspec": {
   "display_name": "Python 3",
   "language": "python",
   "name": "python3"
  },
  "language_info": {
   "codemirror_mode": {
    "name": "ipython",
    "version": 3
   },
   "file_extension": ".py",
   "mimetype": "text/x-python",
   "name": "python",
   "nbconvert_exporter": "python",
   "pygments_lexer": "ipython3",
   "version": "3.8.3"
  }
 },
 "nbformat": 4,
 "nbformat_minor": 4
}
